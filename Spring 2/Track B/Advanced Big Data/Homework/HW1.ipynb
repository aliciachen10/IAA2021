{
 "cells": [
  {
   "cell_type": "markdown",
   "metadata": {},
   "source": [
    "1. Which bike station in San Francisco is the most popular when starting a trip?\n",
    "**San Francisco Caltrain (Townsend at 4th)**"
   ]
  },
  {
   "cell_type": "code",
   "execution_count": null,
   "metadata": {},
   "outputs": [],
   "source": [
    "SELECT start_station_name, count(*) FROM `bigquery-public-data.san_francisco_bikeshare.bikeshare_trips` group by start_station_name order by count(*) desc LIMIT 1000;"
   ]
  },
  {
   "cell_type": "markdown",
   "metadata": {},
   "source": [
    "2. Which routes (start to end point) are the most popular. Please list the top 5. A route is a defined as a (start_station_name, end_station_name)."
   ]
  },
  {
   "cell_type": "markdown",
   "metadata": {},
   "source": [
    "-Harry Bridges Plaza (Ferry Building)\n",
    "-Embarcadero at Sansome\n",
    "-9150\n",
    "\n",
    "-San Francisco Caltrain 2 (330 Townsend)\n",
    "-Townsend at 7th\n",
    "-8508\n",
    "\n",
    "-2nd at Townsend\n",
    "-Harry Bridges Plaza (Ferry Building)\n",
    "-7620\n",
    "\n",
    "-Harry Bridges Plaza (Ferry Building)\n",
    "-2nd at Townsend\n",
    "-6888\n",
    "\n",
    "-Embarcadero at Sansome\n",
    "-Steuart at Market\n",
    "-6874\n"
   ]
  },
  {
   "cell_type": "code",
   "execution_count": null,
   "metadata": {},
   "outputs": [],
   "source": [
    "select start_station_name, end_station_name, count(*) from `bigquery-public-data.san_francisco_bikeshare.bikeshare_trips` group by start_station_name, end_station_name order by count(*) desc limit 1000;"
   ]
  },
  {
   "cell_type": "markdown",
   "metadata": {},
   "source": [
    "3. Which stations are the furthest distance apart? Hint: If you're using BigQuery, I'd recommend calculating the distance in meters based on the longitue and latitute of the start and end points (reference)"
   ]
  },
  {
   "cell_type": "markdown",
   "metadata": {},
   "source": [
    "Santa Clara St at Almaden Blvd\n",
    "-Laguna St at McAllister St\n",
    "-68186.8939708819m apart\n",
    "\n",
    "Santa Clara St at Almaden Blvd\n",
    "-Laguna St at Hayes St\n",
    "-67928.380927669m apart\n",
    "\n",
    "Steuart St at Market St\n",
    "-San Pedro St at Hedding St\n",
    "-65309.356411579945m apart\n",
    "\n",
    "Bay Pl at Vernon St\n",
    "-San Jose Diridon Station\n",
    "-62293.77951894278m apart\n",
    "\n",
    "Bancroft Way at Telegraph Ave\n",
    "-Valencia St at 24th St\n",
    "-19226.937351309345m apart\n"
   ]
  },
  {
   "cell_type": "code",
   "execution_count": null,
   "metadata": {},
   "outputs": [],
   "source": [
    "select distinct start_station_name, end_station_name, st_distance(start_station_geom, end_station_geom) as distance from `bigquery-public-data.san_francisco_bikeshare.bikeshare_trips` where start_station_latitude is not null and\n",
    "start_station_longitude is not null and end_station_latitude is not null and end_station_longitude is not null order by distance desc limit 10;"
   ]
  },
  {
   "cell_type": "markdown",
   "metadata": {},
   "source": [
    "# all queries together below"
   ]
  },
  {
   "cell_type": "markdown",
   "metadata": {},
   "source": [
    "- SELECT start_station_name, count(*) FROM `bigquery-public-data.san_francisco_bikeshare.bikeshare_trips` group by start_station_name order by count(*) desc LIMIT 1000;\n",
    "\n",
    "- select start_station_name, end_station_name, count(*) from `bigquery-public-data.san_francisco_bikeshare.bikeshare_trips` group by start_station_name, end_station_name order by count(*) desc limit 1000;\n",
    "\n",
    "- select distinct start_station_name, end_station_name, st_distance(start_station_geom, end_station_geom) as distance from `bigquery-public-data.san_francisco_bikeshare.bikeshare_trips` where start_station_latitude is not null and\n",
    "start_station_longitude is not null and end_station_latitude is not null and end_station_longitude is not null order by distance desc limit 10;"
   ]
  }
 ],
 "metadata": {
  "kernelspec": {
   "display_name": "Python 3",
   "language": "python",
   "name": "python3"
  },
  "language_info": {
   "codemirror_mode": {
    "name": "ipython",
    "version": 3
   },
   "file_extension": ".py",
   "mimetype": "text/x-python",
   "name": "python",
   "nbconvert_exporter": "python",
   "pygments_lexer": "ipython3",
   "version": "3.7.4"
  }
 },
 "nbformat": 4,
 "nbformat_minor": 2
}
